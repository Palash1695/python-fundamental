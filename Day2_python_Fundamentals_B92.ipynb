{
 "cells": [
  {
   "cell_type": "code",
   "execution_count": null,
   "id": "6f535216-bc96-49f6-972e-c38c524fe25b",
   "metadata": {},
   "outputs": [],
   "source": [
    "Rule no 1: No Namespaces while declaring the variable"
   ]
  },
  {
   "cell_type": "code",
   "execution_count": 1,
   "id": "31aab728-bd3f-43c2-b227-97ad3e255538",
   "metadata": {},
   "outputs": [
    {
     "ename": "SyntaxError",
     "evalue": "invalid syntax (1929892340.py, line 1)",
     "output_type": "error",
     "traceback": [
      "\u001b[1;36m  Cell \u001b[1;32mIn[1], line 1\u001b[1;36m\u001b[0m\n\u001b[1;33m    First name= Palash\u001b[0m\n\u001b[1;37m          ^\u001b[0m\n\u001b[1;31mSyntaxError\u001b[0m\u001b[1;31m:\u001b[0m invalid syntax\n"
     ]
    }
   ],
   "source": [
    "First name= Palash\n",
    "Print(first name)"
   ]
  },
  {
   "cell_type": "code",
   "execution_count": 3,
   "id": "61ead54d-dff4-4267-a7eb-eb535d5c575d",
   "metadata": {},
   "outputs": [
    {
     "ename": "SyntaxError",
     "evalue": "incomplete input (1503173211.py, line 2)",
     "output_type": "error",
     "traceback": [
      "\u001b[1;36m  Cell \u001b[1;32mIn[3], line 2\u001b[1;36m\u001b[0m\n\u001b[1;33m    Print(firstname\u001b[0m\n\u001b[1;37m                   ^\u001b[0m\n\u001b[1;31mSyntaxError\u001b[0m\u001b[1;31m:\u001b[0m incomplete input\n"
     ]
    }
   ],
   "source": [
    "firstname= 'Palash'\n",
    "Print(firstname"
   ]
  },
  {
   "cell_type": "code",
   "execution_count": 5,
   "id": "4b6dd11e-529a-411a-8663-376d147ace07",
   "metadata": {},
   "outputs": [
    {
     "ename": "NameError",
     "evalue": "name 'Print' is not defined",
     "output_type": "error",
     "traceback": [
      "\u001b[1;31m---------------------------------------------------------------------------\u001b[0m",
      "\u001b[1;31mNameError\u001b[0m                                 Traceback (most recent call last)",
      "Cell \u001b[1;32mIn[5], line 1\u001b[0m\n\u001b[1;32m----> 1\u001b[0m Print(firstname)\n",
      "\u001b[1;31mNameError\u001b[0m: name 'Print' is not defined"
     ]
    }
   ],
   "source": [
    "Print(firstname)"
   ]
  },
  {
   "cell_type": "code",
   "execution_count": 7,
   "id": "3dabb0bb-6d23-450d-b0de-55c911fae06f",
   "metadata": {},
   "outputs": [
    {
     "name": "stdout",
     "output_type": "stream",
     "text": [
      "Palash\n"
     ]
    }
   ],
   "source": [
    "firstname = 'Palash'\n",
    "print(firstname)"
   ]
  },
  {
   "cell_type": "code",
   "execution_count": null,
   "id": "2e406774-a0b7-4056-88e5-d10668f4ae3f",
   "metadata": {},
   "outputs": [],
   "source": [
    "Rule no:2 - A Variable should not start with a number **"
   ]
  },
  {
   "cell_type": "code",
   "execution_count": 9,
   "id": "efd76d38-f710-41a7-986d-5d31b6dc1927",
   "metadata": {},
   "outputs": [
    {
     "ename": "SyntaxError",
     "evalue": "invalid decimal literal (3404526831.py, line 1)",
     "output_type": "error",
     "traceback": [
      "\u001b[1;36m  Cell \u001b[1;32mIn[9], line 1\u001b[1;36m\u001b[0m\n\u001b[1;33m    1name = 'Palash'\u001b[0m\n\u001b[1;37m    ^\u001b[0m\n\u001b[1;31mSyntaxError\u001b[0m\u001b[1;31m:\u001b[0m invalid decimal literal\n"
     ]
    }
   ],
   "source": [
    "1name = 'Palash'\n",
    "print(1name)"
   ]
  },
  {
   "cell_type": "code",
   "execution_count": 11,
   "id": "2b26ca3b-c26e-4f8d-b16e-f958dabfe7f8",
   "metadata": {},
   "outputs": [
    {
     "ename": "NameError",
     "evalue": "name 'Print' is not defined",
     "output_type": "error",
     "traceback": [
      "\u001b[1;31m---------------------------------------------------------------------------\u001b[0m",
      "\u001b[1;31mNameError\u001b[0m                                 Traceback (most recent call last)",
      "Cell \u001b[1;32mIn[11], line 2\u001b[0m\n\u001b[0;32m      1\u001b[0m name1\u001b[38;5;241m=\u001b[39m\u001b[38;5;124m'\u001b[39m\u001b[38;5;124mPalash\u001b[39m\u001b[38;5;124m'\u001b[39m\n\u001b[1;32m----> 2\u001b[0m Print(name1)\n",
      "\u001b[1;31mNameError\u001b[0m: name 'Print' is not defined"
     ]
    }
   ],
   "source": [
    "name1='Palash'\n",
    "Print(name1)"
   ]
  },
  {
   "cell_type": "code",
   "execution_count": 13,
   "id": "3594597f-e6af-4517-9d99-b8df969fdf5a",
   "metadata": {},
   "outputs": [
    {
     "ename": "NameError",
     "evalue": "name 'Print' is not defined",
     "output_type": "error",
     "traceback": [
      "\u001b[1;31m---------------------------------------------------------------------------\u001b[0m",
      "\u001b[1;31mNameError\u001b[0m                                 Traceback (most recent call last)",
      "Cell \u001b[1;32mIn[13], line 2\u001b[0m\n\u001b[0;32m      1\u001b[0m name1\u001b[38;5;241m=\u001b[39m \u001b[38;5;124m'\u001b[39m\u001b[38;5;124mPalash\u001b[39m\u001b[38;5;124m'\u001b[39m\n\u001b[1;32m----> 2\u001b[0m Print(name1)\n",
      "\u001b[1;31mNameError\u001b[0m: name 'Print' is not defined"
     ]
    }
   ],
   "source": [
    "name1= 'Palash'\n",
    "Print(name1)"
   ]
  },
  {
   "cell_type": "code",
   "execution_count": 15,
   "id": "7e5a606a-5e0a-465a-ac44-3bb27edc0cef",
   "metadata": {},
   "outputs": [
    {
     "name": "stdout",
     "output_type": "stream",
     "text": [
      "Palash\n"
     ]
    }
   ],
   "source": [
    "name1 = 'Palash'\n",
    "print(name1)"
   ]
  },
  {
   "cell_type": "code",
   "execution_count": null,
   "id": "c0b2b3e4-69d1-47b9-b7c8-9c149421a1d6",
   "metadata": {},
   "outputs": [],
   "source": [
    "Rule No:3 A Variable should not Contain any special characters\n",
    "@ # $ % ^ &"
   ]
  },
  {
   "cell_type": "code",
   "execution_count": 17,
   "id": "b6b8cd10-984d-48c2-9125-ebe5e5bba327",
   "metadata": {},
   "outputs": [
    {
     "ename": "SyntaxError",
     "evalue": "invalid syntax (3931789793.py, line 1)",
     "output_type": "error",
     "traceback": [
      "\u001b[1;36m  Cell \u001b[1;32mIn[17], line 1\u001b[1;36m\u001b[0m\n\u001b[1;33m    name@ = 'palash'\u001b[0m\n\u001b[1;37m          ^\u001b[0m\n\u001b[1;31mSyntaxError\u001b[0m\u001b[1;31m:\u001b[0m invalid syntax\n"
     ]
    }
   ],
   "source": [
    "name@ = 'palash'\n",
    "print(name@)"
   ]
  },
  {
   "cell_type": "raw",
   "id": "2071b4df-09de-4511-a021-ebc8e2c3f1ab",
   "metadata": {},
   "source": [
    "Introduction to data types :\n",
    "           1. strings =========> str\n",
    "           2. number ==========> integers-------> int and floats (decimals) -----> 0.1,0.2, ====> float\n",
    "           3. lists ===========> list\n",
    "           4. tuples ==========> tuple\n",
    "           5. Dictionary ======> dict"
   ]
  },
  {
   "cell_type": "code",
   "execution_count": null,
   "id": "9d4960c8-bc38-4e70-9da0-6abe00b7f709",
   "metadata": {},
   "outputs": [],
   "source": [
    "Classification of data types :\n",
    "\n",
    "           Broadly datatypes are classified in to two categories :\n",
    "\n",
    "                1. Mutable datatypes ====> these are flexible and can be editable and can be altered.\n",
    "                2. immutable datatypes ==> these are fixed and cannot be edited or altered.\n"
   ]
  },
  {
   "cell_type": "code",
   "execution_count": null,
   "id": "ed214893-9eb7-4cd7-9b35-156084c273ee",
   "metadata": {},
   "outputs": [],
   "source": [
    "Introduction to string datatypes :\n",
    "\n",
    " Def: A string is a series of characters delared in quotes.\n",
    "    classification: it is classified as an immutable datetype\n",
    "how to declare a string........?\n",
    "\n",
    "    there are 2 approaches :\n",
    "1. single quote\n",
    "2. Double quote"
   ]
  },
  {
   "cell_type": "code",
   "execution_count": 19,
   "id": "4c1daf63-62e3-42cc-99e9-939baef61219",
   "metadata": {},
   "outputs": [
    {
     "name": "stdout",
     "output_type": "stream",
     "text": [
      "Palash\n"
     ]
    }
   ],
   "source": [
    "fisrtname = 'palash'\n",
    "print(firstname)"
   ]
  },
  {
   "cell_type": "code",
   "execution_count": 21,
   "id": "8f3a117e-b92d-4cf2-af2a-c0d141094af6",
   "metadata": {},
   "outputs": [
    {
     "name": "stdout",
     "output_type": "stream",
     "text": [
      "palash\n"
     ]
    }
   ],
   "source": [
    "name = \"palash\"\n",
    "print(name)"
   ]
  },
  {
   "cell_type": "code",
   "execution_count": null,
   "id": "027677ca-e8e8-4f59-9287-fe1cde291cc1",
   "metadata": {},
   "outputs": [],
   "source": [
    "Introduction to String Methods :"
   ]
  },
  {
   "cell_type": "code",
   "execution_count": 23,
   "id": "94efb76f-1bf5-49c9-8a11-8746c2a540de",
   "metadata": {},
   "outputs": [
    {
     "data": {
      "text/plain": [
       "str"
      ]
     },
     "execution_count": 23,
     "metadata": {},
     "output_type": "execute_result"
    }
   ],
   "source": [
    "type(firstname)"
   ]
  },
  {
   "cell_type": "code",
   "execution_count": 25,
   "id": "066b9ab5-5654-4443-a5fa-3270e67b27fa",
   "metadata": {},
   "outputs": [
    {
     "data": {
      "text/plain": [
       "str"
      ]
     },
     "execution_count": 25,
     "metadata": {},
     "output_type": "execute_result"
    }
   ],
   "source": [
    "type(name)"
   ]
  },
  {
   "cell_type": "code",
   "execution_count": null,
   "id": "ad9aed5c-90b0-418b-a3c6-a2a9661ed175",
   "metadata": {},
   "outputs": [],
   "source": [
    "Note: 1 python is a case sensitive language."
   ]
  },
  {
   "cell_type": "code",
   "execution_count": null,
   "id": "963285e8-f49e-4523-a5f3-cc7040e36fe7",
   "metadata": {},
   "outputs": [],
   "source": [
    "# is used to comment the code."
   ]
  },
  {
   "cell_type": "code",
   "execution_count": 27,
   "id": "b2d0bb09-d59d-4353-b245-fd54af8e820a",
   "metadata": {},
   "outputs": [
    {
     "name": "stdout",
     "output_type": "stream",
     "text": [
      "palash badasheshi\n"
     ]
    }
   ],
   "source": [
    "fullname = 'palash badasheshi'\n",
    "print(fullname)"
   ]
  },
  {
   "cell_type": "code",
   "execution_count": 29,
   "id": "fd2d364e-8114-4225-9cab-596d2531a323",
   "metadata": {},
   "outputs": [
    {
     "name": "stdout",
     "output_type": "stream",
     "text": [
      "Palash Badasheshi\n"
     ]
    }
   ],
   "source": [
    "print(fullname.title())"
   ]
  },
  {
   "cell_type": "code",
   "execution_count": null,
   "id": "a67100c9-545f-4e42-9958-151427aaf68b",
   "metadata": {},
   "outputs": [],
   "source": [
    "# req: i want the entire name in capital letters."
   ]
  },
  {
   "cell_type": "code",
   "execution_count": 31,
   "id": "9e1ed499-0145-4062-9527-11d3a5ed73cc",
   "metadata": {},
   "outputs": [
    {
     "name": "stdout",
     "output_type": "stream",
     "text": [
      "PALASH BADASHESHI\n"
     ]
    }
   ],
   "source": [
    "print(fullname.upper())"
   ]
  },
  {
   "cell_type": "code",
   "execution_count": null,
   "id": "ead0211a-28e8-4af1-b339-cc9fe7f0985a",
   "metadata": {},
   "outputs": [],
   "source": [
    "#"
   ]
  },
  {
   "cell_type": "code",
   "execution_count": null,
   "id": "a3b20a8b-00e4-47b7-a529-f88cf6f30c74",
   "metadata": {},
   "outputs": [],
   "source": []
  },
  {
   "cell_type": "code",
   "execution_count": null,
   "id": "bc1a0058-2f10-4ef2-91aa-130601ee68ea",
   "metadata": {},
   "outputs": [],
   "source": []
  }
 ],
 "metadata": {
  "kernelspec": {
   "display_name": "Python [conda env:base] *",
   "language": "python",
   "name": "conda-base-py"
  },
  "language_info": {
   "codemirror_mode": {
    "name": "ipython",
    "version": 3
   },
   "file_extension": ".py",
   "mimetype": "text/x-python",
   "name": "python",
   "nbconvert_exporter": "python",
   "pygments_lexer": "ipython3",
   "version": "3.12.7"
  }
 },
 "nbformat": 4,
 "nbformat_minor": 5
}
